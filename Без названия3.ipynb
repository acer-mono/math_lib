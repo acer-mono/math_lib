{
 "cells": [
  {
   "cell_type": "code",
   "execution_count": 1,
   "id": "surrounded-friendship",
   "metadata": {},
   "outputs": [],
   "source": [
    "import numpy as np\n",
    "import matplotlib.image as mpimg"
   ]
  },
  {
   "cell_type": "code",
   "execution_count": 2,
   "id": "cubic-cookbook",
   "metadata": {},
   "outputs": [
    {
     "name": "stdout",
     "output_type": "stream",
     "text": [
      "<class 'numpy.ndarray'>\n",
      "(582, 1024, 3)\n"
     ]
    }
   ],
   "source": [
    "img = mpimg.imread(\"img.png\")\n",
    "print(type(img))\n",
    "print(img.shape)"
   ]
  },
  {
   "cell_type": "code",
   "execution_count": 3,
   "id": "promising-surgery",
   "metadata": {},
   "outputs": [],
   "source": [
    "output = img.copy() \n",
    "output[:, :, :2] = 0"
   ]
  },
  {
   "cell_type": "code",
   "execution_count": 4,
   "id": "engaged-justice",
   "metadata": {},
   "outputs": [],
   "source": [
    "mpimg.imsave(\"blue.jpg\", output)"
   ]
  },
  {
   "cell_type": "code",
   "execution_count": 5,
   "id": "latest-guarantee",
   "metadata": {},
   "outputs": [],
   "source": [
    "averages = img.mean(axis=2)  # Берем средние значения R,G и B\n",
    "mpimg.imsave(\"bad-gray.jpg\", averages, cmap=\"gray\")"
   ]
  },
  {
   "cell_type": "code",
   "execution_count": 6,
   "id": "amateur-reasoning",
   "metadata": {},
   "outputs": [],
   "source": [
    "weights = np.array([0.3, 0.59, 0.11])\n",
    "grayscale = img @ weights\n",
    "mpimg.imsave(\"good-gray.jpg\", grayscale, cmap=\"gray\")"
   ]
  },
  {
   "cell_type": "code",
   "execution_count": null,
   "id": "cognitive-castle",
   "metadata": {},
   "outputs": [],
   "source": []
  }
 ],
 "metadata": {
  "kernelspec": {
   "display_name": "Python 3",
   "language": "python",
   "name": "python3"
  },
  "language_info": {
   "codemirror_mode": {
    "name": "ipython",
    "version": 3
   },
   "file_extension": ".py",
   "mimetype": "text/x-python",
   "name": "python",
   "nbconvert_exporter": "python",
   "pygments_lexer": "ipython3",
   "version": "3.6.9"
  }
 },
 "nbformat": 4,
 "nbformat_minor": 5
}
